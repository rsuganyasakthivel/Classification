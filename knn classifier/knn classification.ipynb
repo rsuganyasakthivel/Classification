{
 "cells": [
  {
   "cell_type": "code",
   "execution_count": 1,
   "id": "50979b7e",
   "metadata": {},
   "outputs": [],
   "source": [
    "import numpy as np\n",
    "import pandas as pd\n",
    "\n",
    "import matplotlib.pyplot as plt\n",
    "%matplotlib inline\n",
    "\n",
    "import warnings\n",
    "warnings.filterwarnings('ignore')\n",
    "\n",
    "from sklearn.datasets import load_digits\n",
    "from sklearn.neighbors import KNeighborsClassifier"
   ]
  },
  {
   "cell_type": "code",
   "execution_count": 8,
   "id": "100b160f",
   "metadata": {},
   "outputs": [],
   "source": [
    "from sklearn.model_selection import train_test_split, GridSearchCV"
   ]
  },
  {
   "cell_type": "code",
   "execution_count": 27,
   "id": "46f0add1",
   "metadata": {},
   "outputs": [],
   "source": [
    "from sklearn.metrics import confusion_matrix, classification_report"
   ]
  },
  {
   "cell_type": "code",
   "execution_count": 25,
   "id": "35983141",
   "metadata": {},
   "outputs": [],
   "source": [
    "import seaborn as sn"
   ]
  },
  {
   "cell_type": "code",
   "execution_count": 2,
   "id": "8572847d",
   "metadata": {},
   "outputs": [
    {
     "data": {
      "text/plain": [
       "['DESCR', 'data', 'feature_names', 'frame', 'images', 'target', 'target_names']"
      ]
     },
     "execution_count": 2,
     "metadata": {},
     "output_type": "execute_result"
    }
   ],
   "source": [
    "dataset = load_digits()\n",
    "dir(dataset)"
   ]
  },
  {
   "cell_type": "code",
   "execution_count": 4,
   "id": "3623d5ff",
   "metadata": {},
   "outputs": [
    {
     "data": {
      "text/plain": [
       "array([0, 1, 2, ..., 8, 9, 8])"
      ]
     },
     "execution_count": 4,
     "metadata": {},
     "output_type": "execute_result"
    }
   ],
   "source": [
    "X = pd.DataFrame(dataset.data, columns=dataset.feature_names)\n",
    "y = dataset.target\n",
    "\n",
    "y\n"
   ]
  },
  {
   "cell_type": "code",
   "execution_count": 7,
   "id": "313df5be",
   "metadata": {},
   "outputs": [],
   "source": [
    "X_train, X_test, y_train, y_test = train_test_split(X,y,test_size=0.2)"
   ]
  },
  {
   "cell_type": "raw",
   "id": "aefc1a1d",
   "metadata": {},
   "source": [
    "model_params = {\n",
    "    'knn':{\n",
    "        'model':KNeighborsClassifier(),\n",
    "        'params':{\n",
    "            'n_neighbors':[3,5,8,10]\n",
    "        }\n",
    "    }\n",
    "}"
   ]
  },
  {
   "cell_type": "code",
   "execution_count": 16,
   "id": "5f65515f",
   "metadata": {},
   "outputs": [
    {
     "data": {
      "text/plain": [
       "GridSearchCV(cv=5, estimator=KNeighborsClassifier(),\n",
       "             param_grid={'n_neighbors': [3, 5, 8, 10]})"
      ]
     },
     "execution_count": 16,
     "metadata": {},
     "output_type": "execute_result"
    }
   ],
   "source": [
    "clf =  GridSearchCV(KNeighborsClassifier(), {'n_neighbors':[3,5,8,10]}, cv=5, return_train_score=False)\n",
    "clf.fit(X_train, y_train)\n",
    "\n"
   ]
  },
  {
   "cell_type": "code",
   "execution_count": 17,
   "id": "738734fc",
   "metadata": {},
   "outputs": [
    {
     "data": {
      "text/plain": [
       "0.985387630662021"
      ]
     },
     "execution_count": 17,
     "metadata": {},
     "output_type": "execute_result"
    }
   ],
   "source": [
    "clf.best_score_"
   ]
  },
  {
   "cell_type": "code",
   "execution_count": 18,
   "id": "529afed9",
   "metadata": {},
   "outputs": [
    {
     "data": {
      "text/plain": [
       "{'n_neighbors': 3}"
      ]
     },
     "execution_count": 18,
     "metadata": {},
     "output_type": "execute_result"
    }
   ],
   "source": [
    "clf.best_params_"
   ]
  },
  {
   "cell_type": "code",
   "execution_count": 19,
   "id": "c2ad964e",
   "metadata": {},
   "outputs": [
    {
     "data": {
      "text/plain": [
       "array([7, 3, 3, 9, 1, 8, 0, 4, 1, 1, 6, 5, 5, 3, 7, 6, 2, 2, 5, 8, 0, 5,\n",
       "       9, 3, 3, 4, 0, 8, 5, 8, 6, 9, 6, 3, 6, 0, 1, 3, 0, 3, 2, 2, 2, 4,\n",
       "       2, 6, 7, 0, 1, 2, 3, 1, 6, 8, 6, 5, 8, 5, 8, 2, 6, 6, 9, 7, 1, 2,\n",
       "       1, 1, 5, 1, 1, 4, 3, 0, 6, 8, 7, 2, 0, 6, 5, 8, 4, 7, 7, 4, 5, 2,\n",
       "       9, 9, 7, 3, 6, 6, 0, 3, 6, 1, 1, 9, 0, 6, 5, 6, 9, 6, 8, 2, 5, 0,\n",
       "       9, 3, 4, 6, 3, 5, 4, 5, 0, 5, 8, 4, 8, 1, 4, 3, 8, 5, 2, 8, 6, 9,\n",
       "       2, 7, 3, 9, 5, 6, 5, 4, 3, 6, 0, 3, 8, 7, 4, 3, 1, 8, 9, 5, 7, 2,\n",
       "       1, 5, 2, 3, 2, 2, 0, 6, 5, 2, 2, 9, 0, 2, 8, 1, 0, 7, 2, 5, 8, 3,\n",
       "       6, 9, 0, 2, 3, 1, 5, 7, 2, 8, 5, 7, 9, 2, 9, 8, 9, 3, 4, 6, 9, 5,\n",
       "       5, 1, 3, 4, 2, 0, 4, 3, 1, 5, 4, 9, 9, 9, 5, 4, 9, 6, 7, 0, 9, 0,\n",
       "       1, 2, 4, 4, 7, 4, 2, 5, 2, 9, 7, 4, 8, 5, 0, 4, 4, 8, 0, 9, 8, 1,\n",
       "       4, 3, 1, 8, 2, 4, 4, 9, 6, 5, 3, 0, 5, 2, 2, 8, 2, 6, 3, 5, 0, 6,\n",
       "       7, 5, 1, 3, 1, 6, 1, 3, 2, 7, 5, 5, 7, 5, 8, 5, 5, 7, 2, 3, 9, 3,\n",
       "       1, 3, 5, 4, 8, 8, 7, 2, 4, 0, 6, 0, 6, 1, 0, 1, 2, 5, 0, 9, 7, 8,\n",
       "       1, 1, 7, 9, 2, 7, 6, 8, 2, 4, 3, 3, 9, 4, 7, 4, 5, 8, 2, 0, 5, 5,\n",
       "       6, 7, 8, 3, 9, 3, 8, 8, 7, 9, 2, 8, 5, 5, 2, 7, 0, 8, 0, 1, 6, 3,\n",
       "       6, 1, 4, 3, 3, 5, 1, 3])"
      ]
     },
     "execution_count": 19,
     "metadata": {},
     "output_type": "execute_result"
    }
   ],
   "source": [
    "clf.predict(X_test)"
   ]
  },
  {
   "cell_type": "code",
   "execution_count": 20,
   "id": "d09492e2",
   "metadata": {},
   "outputs": [
    {
     "data": {
      "text/plain": [
       "KNeighborsClassifier(n_neighbors=3)"
      ]
     },
     "execution_count": 20,
     "metadata": {},
     "output_type": "execute_result"
    }
   ],
   "source": [
    "knn = KNeighborsClassifier(n_neighbors=3)\n",
    "knn.fit(X_train,y_train)"
   ]
  },
  {
   "cell_type": "code",
   "execution_count": 22,
   "id": "1e8030fe",
   "metadata": {},
   "outputs": [],
   "source": [
    "y_predict = knn.predict(X_test)"
   ]
  },
  {
   "cell_type": "code",
   "execution_count": 23,
   "id": "7299430d",
   "metadata": {},
   "outputs": [],
   "source": [
    "cm = confusion_matrix(y_test, y_predict)"
   ]
  },
  {
   "cell_type": "code",
   "execution_count": 24,
   "id": "c68a040c",
   "metadata": {},
   "outputs": [
    {
     "data": {
      "text/plain": [
       "array([[31,  0,  0,  0,  0,  0,  0,  0,  0,  0],\n",
       "       [ 0, 33,  0,  0,  0,  0,  0,  0,  0,  0],\n",
       "       [ 0,  0, 42,  0,  0,  0,  0,  0,  0,  0],\n",
       "       [ 0,  0,  0, 41,  0,  0,  0,  0,  0,  0],\n",
       "       [ 0,  0,  0,  0, 32,  0,  0,  0,  0,  1],\n",
       "       [ 0,  0,  0,  0,  0, 46,  0,  0,  0,  0],\n",
       "       [ 0,  0,  0,  0,  0,  0, 36,  0,  0,  0],\n",
       "       [ 0,  0,  0,  0,  0,  0,  0, 29,  0,  0],\n",
       "       [ 0,  1,  0,  0,  0,  0,  0,  0, 36,  0],\n",
       "       [ 0,  0,  0,  0,  0,  1,  0,  0,  0, 31]], dtype=int64)"
      ]
     },
     "execution_count": 24,
     "metadata": {},
     "output_type": "execute_result"
    }
   ],
   "source": [
    "cm"
   ]
  },
  {
   "cell_type": "code",
   "execution_count": 26,
   "id": "d8677d00",
   "metadata": {},
   "outputs": [
    {
     "data": {
      "text/plain": [
       "Text(69.0, 0.5, 'Truth')"
      ]
     },
     "execution_count": 26,
     "metadata": {},
     "output_type": "execute_result"
    },
    {
     "data": {
      "image/png": "[encoded data removed]",
      "text/plain": [
       "<Figure size 720x432 with 2 Axes>"
      ]
     },
     "metadata": {
      "needs_background": "light"
     },
     "output_type": "display_data"
    }
   ],
   "source": [
    "plt.figure(figsize=(10,6))\n",
    "sn.heatmap(cm, annot=True)\n",
    "plt.xlabel('Predicted')\n",
    "plt.ylabel('Truth')"
   ]
  },
  {
   "cell_type": "code",
   "execution_count": 28,
   "id": "cc5553fe",
   "metadata": {},
   "outputs": [
    {
     "name": "stdout",
     "output_type": "stream",
     "text": [
      "              precision    recall  f1-score   support\n",
      "\n",
      "           0       1.00      1.00      1.00        31\n",
      "           1       0.97      1.00      0.99        33\n",
      "           2       1.00      1.00      1.00        42\n",
      "           3       1.00      1.00      1.00        41\n",
      "           4       1.00      0.97      0.98        33\n",
      "           5       0.98      1.00      0.99        46\n",
      "           6       1.00      1.00      1.00        36\n",
      "           7       1.00      1.00      1.00        29\n",
      "           8       1.00      0.97      0.99        37\n",
      "           9       0.97      0.97      0.97        32\n",
      "\n",
      "    accuracy                           0.99       360\n",
      "   macro avg       0.99      0.99      0.99       360\n",
      "weighted avg       0.99      0.99      0.99       360\n",
      "\n"
     ]
    }
   ],
   "source": [
    "print(classification_report(y_test, y_predict))"
   ]
  },
  {
   "cell_type": "code",
   "execution_count": null,
   "id": "a5bb7fa9",
   "metadata": {},
   "outputs": [],
   "source": []
  }
 ],
 "metadata": {
  "kernelspec": {
   "display_name": "Python 3 (ipykernel)",
   "language": "python",
   "name": "python3"
  },
  "language_info": {
   "codemirror_mode": {
    "name": "ipython",
    "version": 3
   },
   "file_extension": ".py",
   "mimetype": "text/x-python",
   "name": "python",
   "nbconvert_exporter": "python",
   "pygments_lexer": "ipython3",
   "version": "3.9.12"
  }
 },
 "nbformat": 4,
 "nbformat_minor": 5
}
